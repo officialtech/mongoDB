{
 "cells": [
  {
   "cell_type": "markdown",
   "metadata": {},
   "source": [
    "------- on command prompt --------"
   ]
  },
  {
   "cell_type": "markdown",
   "metadata": {},
   "source": [
    "pip install pymongo"
   ]
  },
  {
   "cell_type": "markdown",
   "metadata": {},
   "source": [
    "---------- on editor --------------  "
   ]
  },
  {
   "cell_type": "code",
   "execution_count": 8,
   "metadata": {},
   "outputs": [
    {
     "name": "stdout",
     "output_type": "stream",
     "text": [
      "Connection successful!\n"
     ]
    }
   ],
   "source": [
    "#Import MongoClient from pymongo\n",
    "from pymongo import MongoClient\n",
    "\n",
    "#Create a connection to MongoDB Daemon Service using MongoClient\n",
    "client = MongoClient(\"localhost:27017\")\n",
    "print(\"Connection successful!\")\n",
    "#MongoClient is Ready\n",
    "\n",
    "#close connection to mongoDB\n",
    "#client.close()\n",
    "#print(\"Connection closed!\")"
   ]
  },
  {
   "cell_type": "code",
   "execution_count": null,
   "metadata": {},
   "outputs": [],
   "source": []
  },
  {
   "cell_type": "code",
   "execution_count": 19,
   "metadata": {},
   "outputs": [
    {
     "name": "stdout",
     "output_type": "stream",
     "text": [
      "inserted sucessfully!\n"
     ]
    }
   ],
   "source": [
    "#creating database named 'OfficialTech'\n",
    "db_nm = client.OfficialTech\n",
    "\n",
    "\n",
    "\n",
    "dec = {'_id':8080 ,'first name':'bridge', 'last':'chip',\n",
    "      'address':'near SPD headquarter',\n",
    "      'children':{'elder':'jack', 'younger':'vida'}, 'contact':9464348904}\n",
    "\n",
    "\n",
    "#inside OfficialTech the name of collection is collection_name\n",
    "db_nm.collection_name.insert_one(dec)\n",
    "print(\"inserted sucessfully!\")"
   ]
  },
  {
   "cell_type": "code",
   "execution_count": null,
   "metadata": {},
   "outputs": [],
   "source": []
  },
  {
   "cell_type": "code",
   "execution_count": 28,
   "metadata": {},
   "outputs": [
    {
     "name": "stdout",
     "output_type": "stream",
     "text": [
      "DataBase updated!\n"
     ]
    }
   ],
   "source": [
    "# in OfficialTech DB we are going to update children\n",
    "\n",
    "\n",
    "where = {\"_id\": 8080}\n",
    "\n",
    "\"\"\" In 'what', if you give only to be updating value than it will overight with others\n",
    " and only show you updated value, not other values in that location \"\"\"\n",
    "\n",
    "what = {'children':{'last child': 'nick','elder':'jack', 'younger':'vida'}}\n",
    "\n",
    "\n",
    "\n",
    "\n",
    "# update database collection\n",
    "db_nm.collection_name.update_one(where, {'$set':what})\n",
    "print(\"DataBase updated!\")"
   ]
  },
  {
   "cell_type": "code",
   "execution_count": null,
   "metadata": {},
   "outputs": [],
   "source": []
  },
  {
   "cell_type": "code",
   "execution_count": 34,
   "metadata": {},
   "outputs": [
    {
     "name": "stdout",
     "output_type": "stream",
     "text": [
      "Data Deleted!\n"
     ]
    }
   ],
   "source": [
    "# to be deleted location or id\n",
    "delet = {\"_id\": 908}\n",
    "\n",
    "\n",
    "# delete _id values\n",
    "db_nm.collection_name.delete_one(delet)\n",
    "print(\"Data Deleted!\")"
   ]
  }
 ],
 "metadata": {
  "kernelspec": {
   "display_name": "Python 3",
   "language": "python",
   "name": "python3"
  },
  "language_info": {
   "codemirror_mode": {
    "name": "ipython",
    "version": 3
   },
   "file_extension": ".py",
   "mimetype": "text/x-python",
   "name": "python",
   "nbconvert_exporter": "python",
   "pygments_lexer": "ipython3",
   "version": "3.7.1"
  }
 },
 "nbformat": 4,
 "nbformat_minor": 2
}
